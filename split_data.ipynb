{
 "cells": [
  {
   "cell_type": "code",
   "execution_count": null,
   "metadata": {},
   "outputs": [],
   "source": [
    "# Import the os module for interacting with the operating system, \n",
    "# including functions to work with file paths and directories.\n",
    "import os\n",
    "\n",
    "# Import the shutil module to facilitate high-level file operations, \n",
    "# such as copying and moving files and directories.\n",
    "import shutil\n",
    "\n",
    "# Import the random module to generate random numbers and make random selections, \n",
    "# useful for tasks like shuffling datasets or selecting random samples.\n",
    "import random\n"
   ]
  },
  {
   "cell_type": "code",
   "execution_count": null,
   "metadata": {},
   "outputs": [],
   "source": [
    "# Define the source directory containing the labeled images that will be used for training and validation.\n",
    "SOURCE_DIR = \"images/labeled\"\n",
    "\n",
    "# Define the target base directory where the training and validation datasets will be organized.\n",
    "# This directory will typically contain separate subdirectories for training and validation images.\n",
    "TARGET_BASE_DIR = \"data\"\n"
   ]
  },
  {
   "cell_type": "code",
   "execution_count": null,
   "metadata": {},
   "outputs": [],
   "source": [
    "# Create a list of dictionaries to store label information for hand signs.\n",
    "# Each dictionary contains a 'name' representing the sign gesture \n",
    "# and an 'id' that serves as a unique identifier for mapping purposes.\n",
    "label_info = [\n",
    "    {'name': 'hello', 'id': 1},       # Label for the 'hello' sign, assigned ID 1\n",
    "    {'name': 'thanks', 'id': 2},      # Label for the 'thanks' sign, assigned ID 2\n",
    "    {'name': 'yes', 'id': 3},         # Label for the 'yes' sign, assigned ID 3\n",
    "    {'name': 'no', 'id': 4},          # Label for the 'no' sign, assigned ID 4\n",
    "    {'name': 'iloveyou', 'id': 5}     # Label for the 'I love you' sign, assigned ID 5\n",
    "]\n"
   ]
  },
  {
   "cell_type": "code",
   "execution_count": null,
   "metadata": {},
   "outputs": [],
   "source": [
    "# Define the split ratio for dividing the dataset into training and validation sets.\n",
    "train_ratio = 0.9  # 90% of the dataset will be used for training,\n",
    "                    # while the remaining 10% will be used for validation.\n"
   ]
  },
  {
   "cell_type": "code",
   "execution_count": null,
   "metadata": {},
   "outputs": [],
   "source": [
    "# Create the paths for the training and validation directories \n",
    "# by joining the base target directory with the respective folder names.\n",
    "train_dir = os.path.join(TARGET_BASE_DIR, 'train')          # Path for the training dataset directory\n",
    "validation_dir = os.path.join(TARGET_BASE_DIR, 'validation')  # Path for the validation dataset directory\n",
    "\n",
    "# Create the training directory. \n",
    "# The 'exist_ok=True' parameter prevents an error if the directory already exists.\n",
    "os.makedirs(train_dir, exist_ok=True)\n",
    "\n",
    "# Create the validation directory with the same 'exist_ok=True' behavior.\n",
    "os.makedirs(validation_dir, exist_ok=True)\n"
   ]
  },
  {
   "cell_type": "code",
   "execution_count": null,
   "metadata": {},
   "outputs": [],
   "source": [
    "# Iterate over each label in the label_info list to process the corresponding images.\n",
    "for label in label_info:\n",
    "    label_name = label['name']  # Extract the current label name for processing.\n",
    "    \n",
    "    # Create subdirectories for the current label in both the training and validation directories.\n",
    "    train_label_dir = os.path.join(train_dir, label_name)  # Path for the training label directory\n",
    "    validation_label_dir = os.path.join(validation_dir, label_name)  # Path for the validation label directory\n",
    "    os.makedirs(train_label_dir, exist_ok=True)  # Create the training label directory if it doesn't exist\n",
    "    os.makedirs(validation_label_dir, exist_ok=True)  # Create the validation label directory if it doesn't exist\n",
    "\n",
    "    # Construct the path to the directory containing the images for the current label.\n",
    "    label_dir = os.path.join(SOURCE_DIR, label_name)\n",
    "    \n",
    "    # Check if the label directory exists; if not, log a message and skip to the next label.\n",
    "    if not os.path.exists(label_dir):\n",
    "        print(f\"Directory {label_dir} not found, skipping.\")\n",
    "        continue  # Skip processing for this label if the directory is not found\n",
    "    \n",
    "    # List all images in the current label's directory.\n",
    "    images = os.listdir(label_dir)\n",
    "    \n",
    "    # Shuffle the images to ensure a random selection for training and validation.\n",
    "    random.shuffle(images)\n",
    "\n",
    "    # Calculate the split index for dividing the images based on the defined training ratio.\n",
    "    split_index = int(len(images) * train_ratio)\n",
    "\n",
    "    # Move images to the training directory based on the calculated split index.\n",
    "    for img in images[:split_index]:  # Process the first portion of images for training\n",
    "        src_path = os.path.join(label_dir, img)  # Source path of the image\n",
    "        dst_path = os.path.join(train_label_dir, img)  # Destination path for the training directory\n",
    "        shutil.move(src_path, dst_path)  # Move the image from source to destination\n",
    "        print(f\"Moved {img} to {train_label_dir}\")  # Log the successful move\n",
    "\n",
    "    # Move the remaining images to the validation directory.\n",
    "    for img in images[split_index:]:  # Process the remaining images for validation\n",
    "        src_path = os.path.join(label_dir, img)  # Source path of the image\n",
    "        dst_path = os.path.join(validation_label_dir, img)  # Destination path for the validation directory\n",
    "        shutil.move(src_path, dst_path)  # Move the image from source to destination\n",
    "        print(f\"Moved {img} to {validation_label_dir}\")  # Log the successful move\n",
    "\n",
    "# Log completion of the data splitting process.\n",
    "print(\"Data split into training and validation sets complete.\")\n"
   ]
  }
 ],
 "metadata": {
  "kernelspec": {
   "display_name": "tf",
   "language": "python",
   "name": "python3"
  },
  "language_info": {
   "codemirror_mode": {
    "name": "ipython",
    "version": 3
   },
   "file_extension": ".py",
   "mimetype": "text/x-python",
   "name": "python",
   "nbconvert_exporter": "python",
   "pygments_lexer": "ipython3",
   "version": "3.12.5"
  }
 },
 "nbformat": 4,
 "nbformat_minor": 2
}
