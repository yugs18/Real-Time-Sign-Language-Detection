{
 "cells": [
  {
   "cell_type": "code",
   "execution_count": null,
   "metadata": {},
   "outputs": [],
   "source": [
    "import tensorflow as tf  # Import TensorFlow library for building and training machine learning models.\n",
    "from tensorflow.keras.preprocessing import image  # Import the image module from Keras to preprocess image data.\n",
    "import numpy as np  # Import NumPy for numerical operations, particularly for array manipulations.\n",
    "import matplotlib.pyplot as plt  # Import Matplotlib for creating visualizations, such as plotting images and graphs.\n"
   ]
  },
  {
   "cell_type": "code",
   "execution_count": null,
   "metadata": {},
   "outputs": [],
   "source": [
    "# Load the trained model\n",
    "model = tf.keras.models.load_model('sign_language_detection_model.keras')"
   ]
  },
  {
   "cell_type": "code",
   "execution_count": null,
   "metadata": {},
   "outputs": [],
   "source": [
    "# Define labels corresponding to your classes\n",
    "labels = [\n",
    "    {'name': 'hello', 'id': 1},\n",
    "    {'name': 'thanks', 'id': 2},\n",
    "    {'name': 'yes', 'id': 3},\n",
    "    {'name': 'no', 'id': 4},\n",
    "    {'name': 'iloveyou', 'id': 5},\n",
    "]"
   ]
  },
  {
   "cell_type": "code",
   "execution_count": null,
   "metadata": {},
   "outputs": [],
   "source": [
    "# Function to load and preprocess the image\n",
    "def load_and_preprocess_image(img_path):\n",
    "    # Load the image from the specified path and resize it to (150, 150) pixels.\n",
    "    img = image.load_img(img_path, target_size=(150, 150))  \n",
    "    \n",
    "    # Convert the loaded image to a NumPy array.\n",
    "    img_array = image.img_to_array(img)  \n",
    "    \n",
    "    # Add a new axis to the array to create a batch dimension, making it suitable for model input.\n",
    "    img_array = np.expand_dims(img_array, axis=0)  \n",
    "    \n",
    "    # Normalize the pixel values to the range [0, 1] for better performance during prediction.\n",
    "    img_array = img_array / 255.0  \n",
    "    \n",
    "    return img_array  # Return the preprocessed image array.\n"
   ]
  },
  {
   "cell_type": "code",
   "execution_count": null,
   "metadata": {},
   "outputs": [],
   "source": [
    "# Function to get label name by ID\n",
    "def get_label_name(label_id):\n",
    "    # Iterate through the list of labels to find a matching label ID.\n",
    "    for label in labels:\n",
    "        # Check if the current label's ID matches the provided label ID.\n",
    "        if label['id'] == label_id:\n",
    "            # If a match is found, return the corresponding label name.\n",
    "            return label['name']\n",
    "    \n",
    "    # If no matching label ID is found, return \"Unknown\".\n",
    "    return \"Unknown\"\n"
   ]
  },
  {
   "cell_type": "code",
   "execution_count": null,
   "metadata": {},
   "outputs": [],
   "source": [
    "# Function to make a prediction\n",
    "def predict_image(model, img_path):\n",
    "    # Load and preprocess the image using the defined function.\n",
    "    processed_image = load_and_preprocess_image(img_path)\n",
    "    \n",
    "    # Make predictions using the model on the preprocessed image.\n",
    "    predictions = model.predict(processed_image)\n",
    "    \n",
    "    # Get the class index of the highest prediction value.\n",
    "    predicted_class_index = np.argmax(predictions, axis=1)\n",
    "    \n",
    "    # Adjust the index for your label mapping (assumed to be 1-based).\n",
    "    predicted_class_id = predicted_class_index[0] + 1\n",
    "    \n",
    "    # Retrieve the label name corresponding to the predicted class ID.\n",
    "    predicted_class_name = get_label_name(predicted_class_id)\n",
    "    \n",
    "    # Return the predicted class name and the confidence score for that prediction.\n",
    "    return predicted_class_name, predictions[0][predicted_class_index[0]]\n"
   ]
  },
  {
   "cell_type": "code",
   "execution_count": null,
   "metadata": {},
   "outputs": [],
   "source": [
    "# Define the image path for prediction\n",
    "img_path = 'data/train/thanks/thanks_0d14a2a4-9618-11ef-b8f4-28d0433fc667 - Copy - Copy - Copy.jpg'  # Replace with your image path\n",
    "\n",
    "# Make the prediction\n",
    "predicted_class_name, confidence = predict_image(model, img_path)\n",
    "\n",
    "# Print the predicted class name and confidence\n",
    "print(f\"Predicted Class: {predicted_class_name}, Confidence: {confidence:.2f}\")\n"
   ]
  }
 ],
 "metadata": {
  "kernelspec": {
   "display_name": "tf",
   "language": "python",
   "name": "python3"
  },
  "language_info": {
   "codemirror_mode": {
    "name": "ipython",
    "version": 3
   },
   "file_extension": ".py",
   "mimetype": "text/x-python",
   "name": "python",
   "nbconvert_exporter": "python",
   "pygments_lexer": "ipython3",
   "version": "3.12.5"
  }
 },
 "nbformat": 4,
 "nbformat_minor": 2
}
