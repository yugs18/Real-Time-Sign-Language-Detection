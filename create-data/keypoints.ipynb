{
 "cells": [
  {
   "cell_type": "code",
   "execution_count": null,
   "metadata": {},
   "outputs": [],
   "source": [
    "# Importing necessary libraries\n",
    "import cv2\n",
    "import os\n",
    "import csv\n",
    "import mediapipe as mp"
   ]
  },
  {
   "cell_type": "code",
   "execution_count": null,
   "metadata": {},
   "outputs": [],
   "source": [
    "# Paths and parameters\n",
    "IMAGES_PATH = \"images/collected\"\n",
    "KEYPOINTS_PATH = \"images/keypoints\"\n",
    "labels = [\"hello\", \"thanks\", \"yes\", \"no\", \"iloveyou\"]"
   ]
  },
  {
   "cell_type": "code",
   "execution_count": null,
   "metadata": {},
   "outputs": [],
   "source": [
    "# Initialize MediaPipe hands model\n",
    "mp_hands = mp.solutions.hands\n",
    "hands = mp_hands.Hands(static_image_mode=True, max_num_hands=2, min_detection_confidence=0.5)"
   ]
  },
  {
   "cell_type": "code",
   "execution_count": null,
   "metadata": {},
   "outputs": [],
   "source": [
    "def create_directory(path):\n",
    "    if not os.path.exists(path):\n",
    "        os.makedirs(path)"
   ]
  },
  {
   "cell_type": "code",
   "execution_count": null,
   "metadata": {},
   "outputs": [],
   "source": [
    "def save_keypoints_to_csv(label):\n",
    "    \"\"\"\n",
    "    Loads images for the given label, detects hand landmarks, and saves keypoints to a CSV file.\n",
    "    \"\"\"\n",
    "    label_img_path = os.path.join(IMAGES_PATH, label)\n",
    "    keypoints_file = os.path.join(KEYPOINTS_PATH, f\"{label}_keypoints.csv\")\n",
    "    \n",
    "    # Prepare CSV file with headers for each keypoint (x, y, z coordinates for 21 landmarks)\n",
    "    with open(keypoints_file, mode='w', newline='') as f:\n",
    "        writer = csv.writer(f)\n",
    "        headers = [\"image_name\"]\n",
    "        headers += [f\"{axis}_{i}\" for i in range(21) for axis in (\"x\", \"y\", \"z\")]\n",
    "        writer.writerow(headers)\n",
    "\n",
    "        for image_file in os.listdir(label_img_path):\n",
    "            image_path = os.path.join(label_img_path, image_file)\n",
    "\n",
    "            # Read image\n",
    "            image = cv2.imread(image_path)\n",
    "            if image is None:\n",
    "                print(f\"Warning: Could not load image {image_path}\")\n",
    "                continue\n",
    "\n",
    "            # Convert the BGR image to RGB for MediaPipe\n",
    "            rgb_image = cv2.cvtColor(image, cv2.COLOR_BGR2RGB)\n",
    "            results = hands.process(rgb_image)\n",
    "\n",
    "            if results.multi_hand_landmarks:\n",
    "                for hand_landmarks in results.multi_hand_landmarks:\n",
    "                    # Flatten the landmark coordinates into a single list\n",
    "                    keypoints_row = [image_file]\n",
    "                    keypoints_row += [coord for landmark in hand_landmarks.landmark for coord in (landmark.x, landmark.y, landmark.z)]\n",
    "                    writer.writerow(keypoints_row)\n",
    "                    print(f\"Saved keypoints for {image_path} to CSV\")\n",
    "            else:\n",
    "                print(f\"No hand detected in image {image_path}\")"
   ]
  },
  {
   "cell_type": "code",
   "execution_count": null,
   "metadata": {},
   "outputs": [],
   "source": [
    "def main():\n",
    "    \"\"\"\n",
    "    Extract keypoints for each label's images and save to CSV files.\n",
    "    \"\"\"\n",
    "    create_directory(KEYPOINTS_PATH)\n",
    "\n",
    "    for label in labels:\n",
    "        save_keypoints_to_csv(label)\n",
    "\n",
    "if __name__ == \"__main__\":\n",
    "    main()"
   ]
  }
 ],
 "metadata": {
  "kernelspec": {
   "display_name": "tf",
   "language": "python",
   "name": "python3"
  },
  "language_info": {
   "codemirror_mode": {
    "name": "ipython",
    "version": 3
   },
   "file_extension": ".py",
   "mimetype": "text/x-python",
   "name": "python",
   "nbconvert_exporter": "python",
   "pygments_lexer": "ipython3",
   "version": "3.12.7"
  }
 },
 "nbformat": 4,
 "nbformat_minor": 2
}
