{
 "cells": [
  {
   "cell_type": "code",
   "execution_count": null,
   "metadata": {},
   "outputs": [],
   "source": [
    "# Importing the OpenCV library, used for image and video processing\n",
    "import cv2\n",
    "\n",
    "# Importing the os library, which provides functions for interacting with the operating system\n",
    "import os\n",
    "\n",
    "# Importing the time library, which allows for handling time-related tasks like delays\n",
    "import time\n",
    "\n",
    "# Importing the uuid library to generate unique identifiers, useful for unique file naming\n",
    "import uuid"
   ]
  },
  {
   "cell_type": "code",
   "execution_count": null,
   "metadata": {},
   "outputs": [],
   "source": [
    "# Defining the path where collected images will be saved.\n",
    "IMAGES_PATH = \"images/collected\""
   ]
  },
  {
   "cell_type": "code",
   "execution_count": null,
   "metadata": {},
   "outputs": [],
   "source": [
    "# Defining the list of labels for the sign language gestures.\n",
    "# Each label represents a specific word or phrase in sign language that the model will be trained to recognize.\n",
    "labels = [\"hello\", \"thanks\", \"yes\", \"no\", \"iloveyou\"]\n",
    "\n",
    "# Setting the number of images to be captured per label for training the model.\n",
    "number_of_imgs = 2000\n"
   ]
  },
  {
   "cell_type": "code",
   "execution_count": null,
   "metadata": {},
   "outputs": [],
   "source": [
    "def create_directory(path):\n",
    "    \"\"\"\n",
    "    Creates a directory if it doesn't exist.\n",
    "\n",
    "    This function checks if a directory specified by the given `path`\n",
    "    already exists. If it does not exist, the function creates the \n",
    "    directory and any necessary parent directories.\n",
    "\n",
    "    Parameters:\n",
    "    path (str): The path to the directory that needs to be created.\n",
    "\n",
    "    Example:\n",
    "    >>> create_directory('images/collected')\n",
    "    This will create the 'collected' directory inside the 'images'\n",
    "    directory if it does not already exist.\n",
    "    \"\"\"\n",
    "    # Check if the specified directory path already exists\n",
    "    if not os.path.exists(path):\n",
    "        # If it does not exist, create the directory (and any intermediate directories)\n",
    "        os.makedirs(path)\n"
   ]
  },
  {
   "cell_type": "code",
   "execution_count": null,
   "metadata": {},
   "outputs": [],
   "source": [
    "def capture_images_for_class(label, num_images, video_capture):\n",
    "    \"\"\"\n",
    "    Captures a specified number of images for a given label.\n",
    "    \"\"\"\n",
    "    label_path = os.path.join(IMAGES_PATH, label)  # Define path for each label\n",
    "    create_directory(label_path)  # Ensure the directory exists\n",
    "\n",
    "    print(f\"Collecting data for '{label}'...\")\n",
    "    time.sleep(5)  # Allow time for the user to prepare for the gesture\n",
    "\n",
    "    for _ in range(num_images):\n",
    "        ret, frame = video_capture.read()  # Capture a frame\n",
    "        if ret:\n",
    "            cv2.imshow('frame', frame)  # Display the captured frame\n",
    "\n",
    "            # Create a unique file name for the captured image\n",
    "            image_name = os.path.join(label_path, f\"{label}_{uuid.uuid1()}.jpg\")\n",
    "            if cv2.imwrite(image_name, frame):  # Save the image and check success\n",
    "                print(f\"Saved: {image_name}\")\n",
    "            else:\n",
    "                print(f\"Failed to save image: {image_name}\")  # Debugging message\n",
    "\n",
    "            # Check if the user wants to exit early by pressing 'q'\n",
    "            if cv2.waitKey(1) & 0xFF == ord('q'):\n",
    "                break  # Exit the loop if 'q' is pressed\n",
    "        else:\n",
    "            print(\"Warning: Failed to capture frame.\")  # Notify if the frame could not be captured\n",
    "            return  # Exit the function if the frame can't be captured\n",
    "\n",
    "        time.sleep(.1)  # Delay between captures\n"
   ]
  },
  {
   "cell_type": "code",
   "execution_count": null,
   "metadata": {},
   "outputs": [],
   "source": [
    "def main():\n",
    "    \"\"\"\n",
    "    Main function to orchestrate the image collection process for sign language gestures.\n",
    "\n",
    "    This function initializes the necessary directories and the webcam, and then \n",
    "    iterates through each specified label to collect a defined number of images \n",
    "    for each gesture. It ensures proper resource management by releasing the webcam \n",
    "    and closing all OpenCV windows upon completion.\n",
    "\n",
    "    Steps performed:\n",
    "    1. Create the main data directory where images will be stored.\n",
    "    2. Initialize the webcam for capturing images.\n",
    "    3. Loop through each gesture label to collect the corresponding images.\n",
    "    4. Release the webcam resource and destroy all OpenCV windows at the end of the process.\n",
    "    \"\"\"\n",
    "    # Create the main data directory for storing collected images\n",
    "    create_directory(IMAGES_PATH)\n",
    "\n",
    "    # Initialize the webcam to capture live video feed\n",
    "    video_capture = cv2.VideoCapture(0)  # Use index 0 for the default camera\n",
    "    if not video_capture.isOpened():  # Check if the webcam was opened successfully\n",
    "        print(\"Error: Could not open webcam.\")  # Notify if the webcam cannot be accessed\n",
    "        return  # Exit the function if the webcam is not available\n",
    "\n",
    "    # Loop through each class label to collect images for the corresponding gesture\n",
    "    for label in labels:\n",
    "        capture_images_for_class(label, number_of_imgs, video_capture)  # Capture images for the current label\n",
    "\n",
    "    # Release the webcam resource after image collection is complete\n",
    "    video_capture.release()  # Free up the camera for other applications\n",
    "    cv2.destroyAllWindows()  # Close all OpenCV windows that were opened during execution\n"
   ]
  },
  {
   "cell_type": "code",
   "execution_count": null,
   "metadata": {},
   "outputs": [],
   "source": [
    "# Entry point of the program\n",
    "if __name__ == \"__main__\":\n",
    "    \"\"\"\n",
    "    This block of code is executed when the script is run directly.\n",
    "    It serves as the main entry point for the program, ensuring that \n",
    "    the main function is called to initiate the image collection \n",
    "    process for sign language gestures.\n",
    "    \n",
    "    By using this condition, we prevent the code from being executed\n",
    "    if the module is imported elsewhere, allowing for better modularity\n",
    "    and reusability of the functions defined in this script.\n",
    "    \"\"\"\n",
    "    main()  # Call the main function to start the image collection process\n"
   ]
  }
 ],
 "metadata": {
  "kernelspec": {
   "display_name": "Python 3",
   "language": "python",
   "name": "python3"
  },
  "language_info": {
   "codemirror_mode": {
    "name": "ipython",
    "version": 3
   },
   "file_extension": ".py",
   "mimetype": "text/x-python",
   "name": "python",
   "nbconvert_exporter": "python",
   "pygments_lexer": "ipython3",
   "version": "3.12.5"
  }
 },
 "nbformat": 4,
 "nbformat_minor": 2
}
